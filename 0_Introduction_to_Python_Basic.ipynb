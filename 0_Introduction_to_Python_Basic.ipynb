{
 "cells": [
  {
   "cell_type": "markdown",
   "metadata": {},
   "source": [
    "## Training Objectives\n",
    "On the first section of this Data Science Series, we'll start by getting used in working with Jupyter Notebook and programming basics. In this coursebook we will cover:\n",
    "\n",
    "- Variable and Data Types\n",
    "- Function"
   ]
  },
  {
   "cell_type": "markdown",
   "metadata": {},
   "source": [
    "## Variable and Data Types\n",
    "Let's take a step back and complete our fundamental building blocks: variables.\n",
    "\n",
    "A variable is used in order for us to store a value. So the next time you need to use it, you will refer to the variable you have created before:"
   ]
  },
  {
   "cell_type": "code",
   "execution_count": 3,
   "metadata": {},
   "outputs": [
    {
     "name": "stdout",
     "output_type": "stream",
     "text": [
      "Data Science Series : Building Music Recommender System in Python\n"
     ]
    }
   ],
   "source": [
    "dss_name = \"Data Science Series : Building Music Recommender System in Python\"\n",
    "print(dss_name)"
   ]
  },
  {
   "cell_type": "markdown",
   "metadata": {},
   "source": [
    "As you work with Python, you will came accross several types of variable:\n",
    "\n",
    "- Boolean: True or False\n",
    "- Numeric: int, float, complex\n",
    "- Character: Alphanumeric and symbols\n",
    "\n",
    "To return variable types, we can use type() function:"
   ]
  },
  {
   "cell_type": "code",
   "execution_count": 20,
   "metadata": {
    "scrolled": true
   },
   "outputs": [
    {
     "name": "stdout",
     "output_type": "stream",
     "text": [
      "<class 'bool'>\n",
      "<class 'int'>\n"
     ]
    }
   ],
   "source": [
    "is_break = False\n",
    "\n",
    "age = 25\n",
    "\n",
    "print(type(is_break))\n",
    "print(type(age))"
   ]
  },
  {
   "cell_type": "markdown",
   "metadata": {},
   "source": [
    "A set of values stored in a variable can create a sequence. There are multiple basic data structure to choose form if we were to store a sequence value:\n",
    "\n",
    "- Tupple\n",
    "- List\n",
    "- Dictionary\n",
    "- Set"
   ]
  },
  {
   "cell_type": "code",
   "execution_count": 4,
   "metadata": {},
   "outputs": [
    {
     "name": "stdout",
     "output_type": "stream",
     "text": [
      "<class 'tuple'>\n",
      "<class 'list'>\n"
     ]
    }
   ],
   "source": [
    "a_tuple = \"Python\", \"R\", \"Julia\"\n",
    "print(type(a_tuple))\n",
    "a_list = [\"Python\", \"R\", \"Julia\"]\n",
    "print(type(a_list))"
   ]
  },
  {
   "cell_type": "markdown",
   "metadata": {},
   "source": [
    "The difference of tuple and list is tuple are not mutable or immutable while list is mutable. So what does this mean? This mean that you can change the value in a list, but you can’t do that to a tuple. In a more advance implementation, you will see how it makes more sense to create a tuple over list and vice versa.\n",
    "\n",
    "Dictionary is used to represent a value and pair it with some unique ID. "
   ]
  },
  {
   "cell_type": "code",
   "execution_count": 14,
   "metadata": {},
   "outputs": [
    {
     "name": "stdout",
     "output_type": "stream",
     "text": [
      "<class 'dict'>\n"
     ]
    }
   ],
   "source": [
    "a_dict = {\"name\": [\"Dwi\", \"Iqbal\", \"Lita\"], \"language\":[\"Julia\",\"Python\",\"R\"]}\n",
    "print(type(a_dict))"
   ]
  },
  {
   "cell_type": "code",
   "execution_count": 16,
   "metadata": {},
   "outputs": [
    {
     "data": {
      "text/plain": [
       "['Dwi', 'Iqbal', 'Lita']"
      ]
     },
     "execution_count": 16,
     "metadata": {},
     "output_type": "execute_result"
    }
   ],
   "source": [
    "a_dict['name']"
   ]
  },
  {
   "cell_type": "markdown",
   "metadata": {},
   "source": [
    "Lastly, as it name suggested, a set. Set is mutable i.e we can make any changes in set. But elements are not duplicated."
   ]
  },
  {
   "cell_type": "code",
   "execution_count": 17,
   "metadata": {},
   "outputs": [],
   "source": [
    "a_set = {\"algoritma\",\"is\",\"a\",\"data\",\"science\",\"and\",\"data\",\"analytic\",\"school\",\"in\",\"Jakarta\"}"
   ]
  },
  {
   "cell_type": "code",
   "execution_count": 18,
   "metadata": {},
   "outputs": [
    {
     "data": {
      "text/plain": [
       "{'Jakarta',\n",
       " 'a',\n",
       " 'algoritma',\n",
       " 'analytic',\n",
       " 'and',\n",
       " 'data',\n",
       " 'in',\n",
       " 'is',\n",
       " 'school',\n",
       " 'science'}"
      ]
     },
     "execution_count": 18,
     "metadata": {},
     "output_type": "execute_result"
    }
   ],
   "source": [
    "a_set"
   ]
  },
  {
   "cell_type": "markdown",
   "metadata": {},
   "source": [
    "## Functions\n",
    "Defining functions can made a huge difference for our programming practice. It stands for 2 purpose: reproduciblity and modularity. Reproducibility means that a programming logic, can be saved as a function to reuse in the upcoming times. While modularity lean more in grouping a certain programming logic to a function to produce a better categorization for our codes."
   ]
  },
  {
   "cell_type": "code",
   "execution_count": 42,
   "metadata": {},
   "outputs": [],
   "source": [
    "sentences = [\"Algoritma is a data science education center based in Jakarta.\",\n",
    "             \"We organize workshops and training programs to help working professionals and students gain mastery in various data science sub-fields.\"]"
   ]
  },
  {
   "cell_type": "code",
   "execution_count": 43,
   "metadata": {},
   "outputs": [],
   "source": [
    "stoplist = set('for a of the and to in'.split())"
   ]
  },
  {
   "cell_type": "code",
   "execution_count": 44,
   "metadata": {},
   "outputs": [],
   "source": [
    "def split_sentence():\n",
    "    texts = [[word for word in sentence.lower().split() if word not in stoplist]\n",
    "        for sentence in sentences]\n",
    "    return texts"
   ]
  },
  {
   "cell_type": "code",
   "execution_count": 45,
   "metadata": {},
   "outputs": [
    {
     "data": {
      "text/plain": [
       "[['algoritma',\n",
       "  'is',\n",
       "  'data',\n",
       "  'science',\n",
       "  'education',\n",
       "  'center',\n",
       "  'based',\n",
       "  'jakarta.'],\n",
       " ['we',\n",
       "  'organize',\n",
       "  'workshops',\n",
       "  'training',\n",
       "  'programs',\n",
       "  'help',\n",
       "  'working',\n",
       "  'professionals',\n",
       "  'students',\n",
       "  'gain',\n",
       "  'mastery',\n",
       "  'various',\n",
       "  'data',\n",
       "  'science',\n",
       "  'sub-fields.']]"
      ]
     },
     "execution_count": 45,
     "metadata": {},
     "output_type": "execute_result"
    }
   ],
   "source": [
    "split_sentence()"
   ]
  },
  {
   "cell_type": "code",
   "execution_count": null,
   "metadata": {},
   "outputs": [],
   "source": []
  }
 ],
 "metadata": {
  "kernelspec": {
   "display_name": "dss",
   "language": "python",
   "name": "dss"
  },
  "language_info": {
   "codemirror_mode": {
    "name": "ipython",
    "version": 3
   },
   "file_extension": ".py",
   "mimetype": "text/x-python",
   "name": "python",
   "nbconvert_exporter": "python",
   "pygments_lexer": "ipython3",
   "version": "3.7.10"
  },
  "toc": {
   "base_numbering": 1,
   "nav_menu": {},
   "number_sections": true,
   "sideBar": true,
   "skip_h1_title": false,
   "title_cell": "Table of Contents",
   "title_sidebar": "Contents",
   "toc_cell": false,
   "toc_position": {},
   "toc_section_display": true,
   "toc_window_display": false
  }
 },
 "nbformat": 4,
 "nbformat_minor": 4
}
